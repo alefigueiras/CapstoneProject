{
 "cells": [
  {
   "cell_type": "code",
   "execution_count": 3,
   "metadata": {
    "collapsed": false
   },
   "outputs": [],
   "source": [
    "import wbdata\n",
    "import pandas\n",
    "import matplotlib.pyplot as plt"
   ]
  },
  {
   "cell_type": "code",
   "execution_count": 5,
   "metadata": {
    "collapsed": false
   },
   "outputs": [],
   "source": [
    "#set up the countries I want\n",
    "countries = [\"CL\",\"UY\",\"HU\"]\n",
    " \n",
    "#set up the indicator I want (just build up the dict if you want more than one)\n",
    "indicators = {'NY.GNP.PCAP.CD':'GNI per Capita'}\n",
    " \n",
    "#grab indicators above for countires above and load into data frame\n",
    "df = wbdata.get_dataframe(indicators, country=countries, convert_date=False)\n",
    "\n",
    "#df is \"pivoted\", pandas' unstack fucntion helps reshape it into something plottable\n",
    "dfu = df.unstack(level=0)\n",
    "\n",
    "# a simple matplotlib plot with legend, labels and a title\n",
    "dfu.plot(); \n",
    "plt.legend(loc='best'); \n",
    "plt.title(\"GNI Per Capita ($USD, Atlas Method)\"); \n",
    "plt.xlabel('Date'); plt.ylabel('GNI Per Capita ($USD, Atlas Method')\n",
    "plt.show()"
   ]
  },
  {
   "cell_type": "code",
   "execution_count": null,
   "metadata": {
    "collapsed": true
   },
   "outputs": [],
   "source": []
  }
 ],
 "metadata": {
  "kernelspec": {
   "display_name": "Python 2",
   "language": "python",
   "name": "python2"
  },
  "language_info": {
   "codemirror_mode": {
    "name": "ipython",
    "version": 2
   },
   "file_extension": ".py",
   "mimetype": "text/x-python",
   "name": "python",
   "nbconvert_exporter": "python",
   "pygments_lexer": "ipython2",
   "version": "2.7.11"
  }
 },
 "nbformat": 4,
 "nbformat_minor": 0
}
